{
 "cells": [
  {
   "cell_type": "code",
   "execution_count": 1,
   "id": "2b12c8b5",
   "metadata": {},
   "outputs": [
    {
     "name": "stderr",
     "output_type": "stream",
     "text": [
      "C:\\Users\\Иван\\AppData\\Roaming\\Python\\Python312\\site-packages\\torch\\utils\\_pytree.py:185: FutureWarning: optree is installed but the version is too old to support PyTorch Dynamo in C++ pytree. C++ pytree support is disabled. Please consider upgrading optree using `python3 -m pip install --upgrade 'optree>=0.13.0'`.\n",
      "  warnings.warn(\n"
     ]
    }
   ],
   "source": [
    "import torch\n",
    "import interface"
   ]
  },
  {
   "cell_type": "code",
   "execution_count": 14,
   "id": "1da63079",
   "metadata": {},
   "outputs": [],
   "source": [
    "class MyModel(torch.nn.Module):\n",
    "    def __init__(self):\n",
    "        super().__init__()\n",
    "\n",
    "    def __call__(self, x):\n",
    "        shape = [t for t in x.shape]\n",
    "        shape[-2] = 5\n",
    "        return torch.randn(shape)"
   ]
  },
  {
   "cell_type": "code",
   "execution_count": 15,
   "id": "cfe568b1",
   "metadata": {},
   "outputs": [],
   "source": [
    "seq = torch.randn((1234, 2))\n",
    "model = MyModel()"
   ]
  },
  {
   "cell_type": "code",
   "execution_count": 16,
   "id": "09069277",
   "metadata": {},
   "outputs": [],
   "source": [
    "inference = interface.ModelInterference({\"mode\": \"model_variable\", \"model_variable\": model})"
   ]
  },
  {
   "cell_type": "code",
   "execution_count": 17,
   "id": "cdb5ac79",
   "metadata": {},
   "outputs": [
    {
     "data": {
      "text/plain": [
       "tensor([[ 0.5957, -2.2016]])"
      ]
     },
     "execution_count": 17,
     "metadata": {},
     "output_type": "execute_result"
    }
   ],
   "source": [
    "inference.predict_single(seq)"
   ]
  },
  {
   "cell_type": "code",
   "execution_count": 18,
   "id": "312c449f",
   "metadata": {},
   "outputs": [
    {
     "data": {
      "text/plain": [
       "tensor([[-0.4211, -1.2636],\n",
       "        [ 0.3567, -0.2103],\n",
       "        [-0.8190,  1.0863],\n",
       "        [-0.0276,  0.2558],\n",
       "        [-0.7705, -0.4361],\n",
       "        [-0.1108, -2.2708],\n",
       "        [ 0.3289, -0.1885],\n",
       "        [ 0.2881, -0.8576],\n",
       "        [ 0.4853,  0.1043],\n",
       "        [-2.2887,  1.2136]])"
      ]
     },
     "execution_count": 18,
     "metadata": {},
     "output_type": "execute_result"
    }
   ],
   "source": [
    "inference.predict_sequence(seq, 10)"
   ]
  }
 ],
 "metadata": {
  "kernelspec": {
   "display_name": "Python 3",
   "language": "python",
   "name": "python3"
  },
  "language_info": {
   "codemirror_mode": {
    "name": "ipython",
    "version": 3
   },
   "file_extension": ".py",
   "mimetype": "text/x-python",
   "name": "python",
   "nbconvert_exporter": "python",
   "pygments_lexer": "ipython3",
   "version": "3.12.3"
  }
 },
 "nbformat": 4,
 "nbformat_minor": 5
}
