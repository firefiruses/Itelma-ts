{
 "cells": [
  {
   "cell_type": "code",
   "execution_count": 1,
   "metadata": {},
   "outputs": [],
   "source": [
    "from tsai.all import *"
   ]
  },
  {
   "cell_type": "code",
   "execution_count": 2,
   "metadata": {},
   "outputs": [],
   "source": [
    "import pandas as pd\n",
    "import os, sklearn\n",
    "import numpy as np"
   ]
  },
  {
   "cell_type": "code",
   "execution_count": 3,
   "metadata": {},
   "outputs": [
    {
     "name": "stdout",
     "output_type": "stream",
     "text": [
      "folder 0 out of 29\n",
      "folder 1 out of 29\n",
      "folder 2 out of 29\n",
      "folder 3 out of 29\n",
      "folder 4 out of 29\n",
      "folder 5 out of 29\n",
      "folder 6 out of 29\n",
      "folder 7 out of 29\n",
      "folder 8 out of 29\n",
      "folder 9 out of 29\n",
      "folder 10 out of 29\n",
      "folder 11 out of 29\n",
      "folder 12 out of 29\n",
      "folder 13 out of 29\n",
      "folder 14 out of 29\n",
      "folder 15 out of 29\n",
      "folder 16 out of 29\n",
      "folder 17 out of 29\n",
      "folder 18 out of 29\n",
      "folder 19 out of 29\n",
      "folder 20 out of 29\n",
      "folder 21 out of 29\n",
      "folder 22 out of 29\n",
      "folder 23 out of 29\n",
      "folder 24 out of 29\n",
      "folder 25 out of 29\n",
      "folder 26 out of 29\n",
      "folder 27 out of 29\n",
      "folder 28 out of 29\n",
      "\n",
      "folder 0 out of 98\n",
      "folder 1 out of 98\n",
      "folder 2 out of 98\n",
      "folder 3 out of 98\n",
      "folder 4 out of 98\n",
      "folder 5 out of 98\n",
      "folder 6 out of 98\n",
      "folder 7 out of 98\n",
      "folder 8 out of 98\n",
      "folder 9 out of 98\n",
      "folder 10 out of 98\n",
      "folder 11 out of 98\n",
      "folder 12 out of 98\n",
      "folder 13 out of 98\n",
      "folder 14 out of 98\n",
      "folder 15 out of 98\n",
      "folder 16 out of 98\n",
      "folder 17 out of 98\n",
      "folder 18 out of 98\n",
      "folder 19 out of 98\n",
      "folder 20 out of 98\n",
      "folder 21 out of 98\n",
      "folder 22 out of 98\n",
      "folder 23 out of 98\n",
      "folder 24 out of 98\n",
      "folder 25 out of 98\n",
      "folder 26 out of 98\n",
      "folder 27 out of 98\n",
      "folder 28 out of 98\n",
      "folder 29 out of 98\n",
      "folder 30 out of 98\n",
      "folder 31 out of 98\n",
      "folder 32 out of 98\n",
      "folder 33 out of 98\n",
      "folder 34 out of 98\n",
      "folder 35 out of 98\n",
      "folder 36 out of 98\n",
      "folder 37 out of 98\n",
      "folder 38 out of 98\n",
      "folder 39 out of 98\n",
      "folder 40 out of 98\n",
      "folder 41 out of 98\n",
      "folder 42 out of 98\n",
      "folder 43 out of 98\n",
      "folder 44 out of 98\n",
      "folder 45 out of 98\n",
      "folder 46 out of 98\n",
      "folder 47 out of 98\n",
      "folder 48 out of 98\n",
      "folder 49 out of 98\n",
      "folder 50 out of 98\n",
      "folder 51 out of 98\n",
      "folder 52 out of 98\n",
      "folder 53 out of 98\n",
      "folder 54 out of 98\n",
      "folder 55 out of 98\n",
      "folder 56 out of 98\n",
      "folder 57 out of 98\n",
      "folder 58 out of 98\n",
      "folder 59 out of 98\n",
      "folder 60 out of 98\n",
      "folder 61 out of 98\n",
      "folder 62 out of 98\n",
      "folder 63 out of 98\n",
      "folder 64 out of 98\n",
      "folder 65 out of 98\n",
      "folder 66 out of 98\n",
      "folder 67 out of 98\n",
      "folder 68 out of 98\n",
      "folder 69 out of 98\n",
      "folder 70 out of 98\n",
      "folder 71 out of 98\n",
      "folder 72 out of 98\n",
      "folder 73 out of 98\n",
      "folder 74 out of 98\n",
      "folder 75 out of 98\n",
      "folder 76 out of 98\n",
      "folder 77 out of 98\n",
      "folder 78 out of 98\n",
      "folder 79 out of 98\n",
      "folder 80 out of 98\n",
      "folder 81 out of 98\n",
      "folder 82 out of 98\n",
      "folder 83 out of 98\n",
      "folder 84 out of 98\n",
      "folder 85 out of 98\n",
      "folder 86 out of 98\n",
      "folder 87 out of 98\n",
      "folder 88 out of 98\n",
      "folder 89 out of 98\n",
      "folder 90 out of 98\n",
      "folder 91 out of 98\n",
      "folder 92 out of 98\n",
      "folder 93 out of 98\n",
      "folder 94 out of 98\n",
      "folder 95 out of 98\n",
      "folder 96 out of 98\n",
      "folder 97 out of 98\n",
      "\n"
     ]
    }
   ],
   "source": [
    "X = []\n",
    "y = []\n",
    "look_back = 50\n",
    "max_sample = 500\n",
    "dataset_folder = \"./itelma_dataset\"\n",
    "for diagnosis in [\"hypoxia\", \"regular\"]:\n",
    "    for fc, folder in enumerate(sorted(os.listdir(os.path.join(dataset_folder, diagnosis)))):\n",
    "        print(f\"folder {fc} out of {len(os.listdir(os.path.join(dataset_folder, diagnosis)))}\")\n",
    "        for file in sorted(os.listdir(os.path.join(dataset_folder, diagnosis, folder, \"bpm\"))):\n",
    "            df = None\n",
    "            bpm_file_name = os.path.join(dataset_folder, diagnosis, folder, \"bpm\", file)\n",
    "            uterus_file_name = bpm_file_name.replace(\"1.csv\", \"2.csv\").replace(\"3.csv\", \"4.csv\").replace(\"bpm\", \"uterus\")\n",
    "            bpm_df = pd.read_csv(bpm_file_name)\n",
    "            bpm_df.rename({\"value\": \"bpm\"}, axis=1, inplace=True)\n",
    "            try:\n",
    "                uterus_df = pd.read_csv(uterus_file_name)\n",
    "                uterus_df.rename({\"value\": \"uterus\"}, axis=1, inplace=True)\n",
    "                df = bpm_df.merge(uterus_df, on=\"time_sec\", how=\"inner\")\n",
    "                #df = bpm_df.merge(uterus_file_name, on=\"time_sec\", how=\"outer\")\n",
    "                '''df[\"time_sec\"] = df[\"time_sec\"].apply(lambda x: int(round(x / 0.127029))).astype('int')\n",
    "                df[\"group_id\"] = i\n",
    "                i += 1\n",
    "                fin.append(df)'''\n",
    "                idx_list = range(len(df) - 1 - look_back)\n",
    "                if len(idx_list) > max_sample:\n",
    "                    idx_list = np.random.choice(idx_list, max_sample, replace=False)\n",
    "                for idx in idx_list:\n",
    "                    X.append(df[[\"bpm\", \"uterus\"]].iloc[idx:idx+look_back].to_numpy())\n",
    "                    y.append(df[[\"bpm\", \"uterus\"]].iloc[idx+look_back].to_numpy())\n",
    "                #X.extend(np.random.choice(_X, min(max_sample, len(_X))))\n",
    "                #y.extend(np.random.choice(_y, min(max_sample, len(_y))))\n",
    "            except:\n",
    "                pass\n",
    "    print()"
   ]
  },
  {
   "cell_type": "code",
   "execution_count": 4,
   "metadata": {},
   "outputs": [
    {
     "data": {
      "text/plain": [
       "(612812, 2, 1)"
      ]
     },
     "execution_count": 4,
     "metadata": {},
     "output_type": "execute_result"
    }
   ],
   "source": [
    "y = np.array(y)\n",
    "y = y.reshape((*y.shape, 1))\n",
    "y.shape"
   ]
  },
  {
   "cell_type": "code",
   "execution_count": 5,
   "metadata": {},
   "outputs": [
    {
     "data": {
      "text/plain": [
       "array([[121.576697],\n",
       "       [ 22.193381]])"
      ]
     },
     "execution_count": 5,
     "metadata": {},
     "output_type": "execute_result"
    }
   ],
   "source": [
    "y[0, :]"
   ]
  },
  {
   "cell_type": "code",
   "execution_count": 6,
   "metadata": {},
   "outputs": [
    {
     "data": {
      "text/plain": [
       "(612812, 2, 50)"
      ]
     },
     "execution_count": 6,
     "metadata": {},
     "output_type": "execute_result"
    }
   ],
   "source": [
    "X = np.array(X).transpose((0, 2, 1))\n",
    "X.shape"
   ]
  },
  {
   "cell_type": "code",
   "execution_count": 7,
   "metadata": {},
   "outputs": [
    {
     "data": {
      "text/plain": [
       "((612812, 2, 1), (612812, 2, 50))"
      ]
     },
     "execution_count": 7,
     "metadata": {},
     "output_type": "execute_result"
    }
   ],
   "source": [
    "y.shape, X.shape"
   ]
  },
  {
   "cell_type": "code",
   "execution_count": 8,
   "metadata": {},
   "outputs": [],
   "source": [
    "#X_train, X_test, y_train, y_test = sklearn.model_selection.train_test_split(X, y, test_size=0.1)"
   ]
  },
  {
   "cell_type": "code",
   "execution_count": 9,
   "metadata": {},
   "outputs": [],
   "source": [
    "arch_config = dict(\n",
    "    n_layers=3,  # number of encoder layers\n",
    "    n_heads=4,  # number of heads\n",
    "    d_model=16,  # dimension of model\n",
    "    d_ff=128,  # dimension of fully connected network\n",
    "    attn_dropout=0.0, # dropout applied to the attention weights\n",
    "    dropout=0.3,  # dropout applied to all linear layers in the encoder except q,k&v projections\n",
    "    patch_len=24,  # length of the patch applied to the time series to create patches\n",
    "    stride=2,  # stride used when creating patches\n",
    "    padding_patch=True,  # padding_patch\n",
    ")\n",
    "     \n"
   ]
  },
  {
   "cell_type": "code",
   "execution_count": 10,
   "metadata": {},
   "outputs": [],
   "source": [
    "preproc_pipe = sklearn.pipeline.Pipeline([])"
   ]
  },
  {
   "cell_type": "code",
   "execution_count": 11,
   "metadata": {},
   "outputs": [],
   "source": [
    "exp_pipe = sklearn.pipeline.Pipeline([\n",
    "    ('scaler', TSStandardScaler()), # standardize data using train_split\n",
    "    ], \n",
    "    verbose=True)"
   ]
  },
  {
   "cell_type": "code",
   "execution_count": 12,
   "metadata": {},
   "outputs": [],
   "source": [
    "X_train, X_test, y_train, y_test = sklearn.model_selection.train_test_split(X, y, test_size=0.2)"
   ]
  },
  {
   "cell_type": "code",
   "execution_count": 13,
   "metadata": {},
   "outputs": [
    {
     "data": {
      "text/html": [
       "\n",
       "<style>\n",
       "    /* Turns off some styling */\n",
       "    progress {\n",
       "        /* gets rid of default border in Firefox and Opera. */\n",
       "        border: none;\n",
       "        /* Needs to be in here for Safari polyfill so background images work as expected. */\n",
       "        background-size: auto;\n",
       "    }\n",
       "    progress:not([value]), progress:not([value])::-webkit-progress-bar {\n",
       "        background: repeating-linear-gradient(45deg, #7e7e7e, #7e7e7e 10px, #5c5c5c 10px, #5c5c5c 20px);\n",
       "    }\n",
       "    .progress-bar-interrupted, .progress-bar-interrupted::-webkit-progress-bar {\n",
       "        background: #F44336;\n",
       "    }\n",
       "</style>\n"
      ],
      "text/plain": [
       "<IPython.core.display.HTML object>"
      ]
     },
     "metadata": {},
     "output_type": "display_data"
    },
    {
     "data": {
      "text/html": [
       "<table border=\"1\" class=\"dataframe\">\n",
       "  <thead>\n",
       "    <tr style=\"text-align: left;\">\n",
       "      <th>epoch</th>\n",
       "      <th>train_loss</th>\n",
       "      <th>mse</th>\n",
       "      <th>mae</th>\n",
       "      <th>time</th>\n",
       "    </tr>\n",
       "  </thead>\n",
       "  <tbody>\n",
       "    <tr>\n",
       "      <td>0</td>\n",
       "      <td>15.364572</td>\n",
       "      <td>01:22</td>\n",
       "    </tr>\n",
       "    <tr>\n",
       "      <td>1</td>\n",
       "      <td>11.883803</td>\n",
       "      <td>01:25</td>\n",
       "    </tr>\n",
       "    <tr>\n",
       "      <td>2</td>\n",
       "      <td>14.947466</td>\n",
       "      <td>01:27</td>\n",
       "    </tr>\n",
       "  </tbody>\n",
       "</table>"
      ],
      "text/plain": [
       "<IPython.core.display.HTML object>"
      ]
     },
     "metadata": {},
     "output_type": "display_data"
    },
    {
     "data": {
      "image/png": "[encoded data removed]",
      "text/plain": [
       "<Figure size 600x400 with 1 Axes>"
      ]
     },
     "metadata": {},
     "output_type": "display_data"
    },
    {
     "data": {
      "image/png": "[encoded data removed]",
      "text/plain": [
       "<Figure size 1300x400 with 2 Axes>"
      ]
     },
     "metadata": {},
     "output_type": "display_data"
    }
   ],
   "source": [
    "learn = TSForecaster(X_train, y_train, batch_size=128, path=\"models\", pipelines=[preproc_pipe, exp_pipe],\n",
    "                     arch=\"PatchTST\", arch_config=arch_config, metrics=[mse, mae], cbs=[ShowGraph()])\n",
    "\n",
    "n_epochs = 3\n",
    "lr_max = 3e-4\n",
    "learn.fit_one_cycle(n_epochs, lr_max=lr_max)\n",
    "learn.export('patchTST_50.pt')\n",
    "     \n"
   ]
  },
  {
   "cell_type": "code",
   "execution_count": 14,
   "metadata": {},
   "outputs": [
    {
     "data": {
      "text/html": [
       "\n",
       "<style>\n",
       "    /* Turns off some styling */\n",
       "    progress {\n",
       "        /* gets rid of default border in Firefox and Opera. */\n",
       "        border: none;\n",
       "        /* Needs to be in here for Safari polyfill so background images work as expected. */\n",
       "        background-size: auto;\n",
       "    }\n",
       "    progress:not([value]), progress:not([value])::-webkit-progress-bar {\n",
       "        background: repeating-linear-gradient(45deg, #7e7e7e, #7e7e7e 10px, #5c5c5c 10px, #5c5c5c 20px);\n",
       "    }\n",
       "    .progress-bar-interrupted, .progress-bar-interrupted::-webkit-progress-bar {\n",
       "        background: #F44336;\n",
       "    }\n",
       "</style>\n"
      ],
      "text/plain": [
       "<IPython.core.display.HTML object>"
      ]
     },
     "metadata": {},
     "output_type": "display_data"
    },
    {
     "data": {
      "text/html": [],
      "text/plain": [
       "<IPython.core.display.HTML object>"
      ]
     },
     "metadata": {},
     "output_type": "display_data"
    },
    {
     "data": {
      "text/plain": [
       "tensor([[[202.3935],\n",
       "         [ 12.1312]],\n",
       "\n",
       "        [[146.2880],\n",
       "         [ 11.1226]],\n",
       "\n",
       "        [[137.1278],\n",
       "         [  6.8080]],\n",
       "\n",
       "        ...,\n",
       "\n",
       "        [[149.2055],\n",
       "         [ 12.9440]],\n",
       "\n",
       "        [[117.8555],\n",
       "         [  8.3409]],\n",
       "\n",
       "        [[140.3989],\n",
       "         [ 12.4944]]])"
      ]
     },
     "execution_count": 14,
     "metadata": {},
     "output_type": "execute_result"
    }
   ],
   "source": [
    "pred = learn.get_X_preds(X_test)\n",
    "pred[0]"
   ]
  },
  {
   "cell_type": "code",
   "execution_count": 15,
   "metadata": {},
   "outputs": [
    {
     "data": {
      "text/plain": [
       "torch.Size([122563, 2, 1])"
      ]
     },
     "execution_count": 15,
     "metadata": {},
     "output_type": "execute_result"
    }
   ],
   "source": [
    "pred[0].shape"
   ]
  },
  {
   "cell_type": "code",
   "execution_count": 16,
   "metadata": {},
   "outputs": [
    {
     "data": {
      "text/plain": [
       "(torch.Size([122563, 2, 1]), (122563, 2, 1))"
      ]
     },
     "execution_count": 16,
     "metadata": {},
     "output_type": "execute_result"
    }
   ],
   "source": [
    "pred = pred[0]\n",
    "pred.shape, y_test.shape"
   ]
  },
  {
   "cell_type": "code",
   "execution_count": 17,
   "metadata": {},
   "outputs": [
    {
     "data": {
      "text/plain": [
       "((490249, 2, 50), (122563, 2, 50), (490249, 2, 1), (122563, 2, 1))"
      ]
     },
     "execution_count": 17,
     "metadata": {},
     "output_type": "execute_result"
    }
   ],
   "source": [
    "X_train.shape, X_test.shape, y_train.shape, y_test.shape"
   ]
  },
  {
   "cell_type": "code",
   "execution_count": 20,
   "metadata": {},
   "outputs": [
    {
     "data": {
      "text/plain": [
       "(12.834956108848612, 0.6865503610494104)"
      ]
     },
     "execution_count": 20,
     "metadata": {},
     "output_type": "execute_result"
    }
   ],
   "source": [
    "sklearn.metrics.mean_squared_error(pred[:, :, 0], y_test[:, :, 0]), sklearn.metrics.mean_absolute_error(pred[:, :, 0], y_test[:, :, 0])"
   ]
  },
  {
   "cell_type": "code",
   "execution_count": 21,
   "metadata": {},
   "outputs": [
    {
     "name": "stdout",
     "output_type": "stream",
     "text": [
      "16313: [[128.52728271484375], [17.536720275878906]] [[128.502674]\n",
      " [ 16.439246]]\n",
      "100233: [[160.3153076171875], [5.9052557945251465]] [[160.315339]\n",
      " [  5.905256]]\n",
      "83650: [[149.44508361816406], [8.127019882202148]] [[149.454837]\n",
      " [  8.122157]]\n",
      "80459: [[130.98049926757812], [8.378578186035156]] [[131.368252]\n",
      " [  8.387516]]\n",
      "61349: [[130.11415100097656], [8.68537712097168]] [[129.100161]\n",
      " [  8.658854]]\n",
      "88888: [[128.6799774169922], [12.042547225952148]] [[128.674506]\n",
      " [ 12.264763]]\n",
      "104274: [[138.17361450195312], [17.85810661315918]] [[139.250535]\n",
      " [ 17.96875 ]]\n",
      "113974: [[140.25848388671875], [2.6773159503936768]] [[140.63955]\n",
      " [  2.59909]]\n",
      "93729: [[174.4875030517578], [7.7208662033081055]] [[174.85302 ]\n",
      " [  7.802341]]\n",
      "107752: [[153.4958953857422], [10.706780433654785]] [[154.714057]\n",
      " [ 10.707333]]\n"
     ]
    }
   ],
   "source": [
    "for _ in range(10):\n",
    "    idx = np.random.randint(len(y_test))\n",
    "    print(f\"{idx}:\", pred[idx].tolist(), y_test[idx])"
   ]
  }
 ],
 "metadata": {
  "kernelspec": {
   "display_name": ".venv",
   "language": "python",
   "name": "python3"
  },
  "language_info": {
   "codemirror_mode": {
    "name": "ipython",
    "version": 3
   },
   "file_extension": ".py",
   "mimetype": "text/x-python",
   "name": "python",
   "nbconvert_exporter": "python",
   "pygments_lexer": "ipython3",
   "version": "3.12.3"
  }
 },
 "nbformat": 4,
 "nbformat_minor": 2
}
