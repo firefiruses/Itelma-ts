{
 "cells": [
  {
   "cell_type": "code",
   "execution_count": 1,
   "metadata": {},
   "outputs": [],
   "source": [
    "import pandas as pd\n",
    "import os, sklearn\n",
    "import numpy as np"
   ]
  },
  {
   "cell_type": "code",
   "execution_count": 2,
   "metadata": {},
   "outputs": [],
   "source": [
    "np.random.seed(0)"
   ]
  },
  {
   "cell_type": "code",
   "execution_count": 3,
   "metadata": {},
   "outputs": [
    {
     "name": "stdout",
     "output_type": "stream",
     "text": [
      "folder 0 out of 29\n",
      "folder 1 out of 29\n",
      "folder 2 out of 29\n",
      "folder 3 out of 29\n",
      "folder 4 out of 29\n",
      "folder 5 out of 29\n",
      "folder 6 out of 29\n",
      "folder 7 out of 29\n",
      "folder 8 out of 29\n",
      "folder 9 out of 29\n",
      "folder 10 out of 29\n",
      "folder 11 out of 29\n",
      "folder 12 out of 29\n",
      "folder 13 out of 29\n",
      "folder 14 out of 29\n",
      "folder 15 out of 29\n",
      "folder 16 out of 29\n",
      "folder 17 out of 29\n",
      "folder 18 out of 29\n",
      "folder 19 out of 29\n",
      "folder 20 out of 29\n",
      "folder 21 out of 29\n",
      "folder 22 out of 29\n",
      "folder 23 out of 29\n",
      "folder 24 out of 29\n",
      "folder 25 out of 29\n",
      "folder 26 out of 29\n",
      "folder 27 out of 29\n",
      "folder 28 out of 29\n",
      "\n",
      "folder 0 out of 98\n",
      "folder 1 out of 98\n",
      "folder 2 out of 98\n",
      "folder 3 out of 98\n",
      "folder 4 out of 98\n",
      "folder 5 out of 98\n",
      "folder 6 out of 98\n",
      "folder 7 out of 98\n",
      "folder 8 out of 98\n",
      "folder 9 out of 98\n",
      "folder 10 out of 98\n",
      "folder 11 out of 98\n",
      "folder 12 out of 98\n",
      "folder 13 out of 98\n",
      "folder 14 out of 98\n",
      "folder 15 out of 98\n",
      "folder 16 out of 98\n",
      "folder 17 out of 98\n",
      "folder 18 out of 98\n",
      "folder 19 out of 98\n",
      "folder 20 out of 98\n",
      "folder 21 out of 98\n",
      "folder 22 out of 98\n",
      "folder 23 out of 98\n",
      "folder 24 out of 98\n",
      "folder 25 out of 98\n",
      "folder 26 out of 98\n",
      "folder 27 out of 98\n",
      "folder 28 out of 98\n",
      "folder 29 out of 98\n",
      "folder 30 out of 98\n",
      "folder 31 out of 98\n",
      "folder 32 out of 98\n",
      "folder 33 out of 98\n",
      "folder 34 out of 98\n",
      "folder 35 out of 98\n",
      "folder 36 out of 98\n",
      "folder 37 out of 98\n",
      "folder 38 out of 98\n",
      "folder 39 out of 98\n",
      "folder 40 out of 98\n",
      "folder 41 out of 98\n",
      "folder 42 out of 98\n",
      "folder 43 out of 98\n",
      "folder 44 out of 98\n",
      "folder 45 out of 98\n",
      "folder 46 out of 98\n",
      "folder 47 out of 98\n",
      "folder 48 out of 98\n",
      "folder 49 out of 98\n",
      "folder 50 out of 98\n",
      "folder 51 out of 98\n",
      "folder 52 out of 98\n",
      "folder 53 out of 98\n",
      "folder 54 out of 98\n",
      "folder 55 out of 98\n",
      "folder 56 out of 98\n",
      "folder 57 out of 98\n",
      "folder 58 out of 98\n",
      "folder 59 out of 98\n",
      "folder 60 out of 98\n",
      "folder 61 out of 98\n",
      "folder 62 out of 98\n",
      "folder 63 out of 98\n",
      "folder 64 out of 98\n",
      "folder 65 out of 98\n",
      "folder 66 out of 98\n",
      "folder 67 out of 98\n",
      "folder 68 out of 98\n",
      "folder 69 out of 98\n",
      "folder 70 out of 98\n",
      "folder 71 out of 98\n",
      "folder 72 out of 98\n",
      "folder 73 out of 98\n",
      "folder 74 out of 98\n",
      "folder 75 out of 98\n",
      "folder 76 out of 98\n",
      "folder 77 out of 98\n",
      "folder 78 out of 98\n",
      "folder 79 out of 98\n",
      "folder 80 out of 98\n",
      "folder 81 out of 98\n",
      "folder 82 out of 98\n",
      "folder 83 out of 98\n",
      "folder 84 out of 98\n",
      "folder 85 out of 98\n",
      "folder 86 out of 98\n",
      "folder 87 out of 98\n",
      "folder 88 out of 98\n",
      "folder 89 out of 98\n",
      "folder 90 out of 98\n",
      "folder 91 out of 98\n",
      "folder 92 out of 98\n",
      "folder 93 out of 98\n",
      "folder 94 out of 98\n",
      "folder 95 out of 98\n",
      "folder 96 out of 98\n",
      "folder 97 out of 98\n",
      "\n"
     ]
    }
   ],
   "source": [
    "X = []\n",
    "y = []\n",
    "look_back = 500\n",
    "max_sample = 200\n",
    "dataset_folder = \"./itelma_dataset\"\n",
    "for diagnosis in [\"hypoxia\", \"regular\"]:\n",
    "    for fc, folder in enumerate(sorted(os.listdir(os.path.join(dataset_folder, diagnosis)))):\n",
    "        print(f\"folder {fc} out of {len(os.listdir(os.path.join(dataset_folder, diagnosis)))}\")\n",
    "        for file in sorted(os.listdir(os.path.join(dataset_folder, diagnosis, folder, \"bpm\"))):\n",
    "            df = None\n",
    "            bpm_file_name = os.path.join(dataset_folder, diagnosis, folder, \"bpm\", file)\n",
    "            uterus_file_name = bpm_file_name.replace(\"1.csv\", \"2.csv\").replace(\"3.csv\", \"4.csv\").replace(\"bpm\", \"uterus\")\n",
    "            bpm_df = pd.read_csv(bpm_file_name)\n",
    "            bpm_df.rename({\"value\": \"bpm\"}, axis=1, inplace=True)\n",
    "            try:\n",
    "                uterus_df = pd.read_csv(uterus_file_name)\n",
    "                uterus_df.rename({\"value\": \"uterus\"}, axis=1, inplace=True)\n",
    "                df = bpm_df.merge(uterus_df, on=\"time_sec\", how=\"inner\")\n",
    "                #df = bpm_df.merge(uterus_file_name, on=\"time_sec\", how=\"outer\")\n",
    "                '''df[\"time_sec\"] = df[\"time_sec\"].apply(lambda x: int(round(x / 0.127029))).astype('int')\n",
    "                df[\"group_id\"] = i\n",
    "                i += 1\n",
    "                fin.append(df)'''\n",
    "                idx_list = range(len(df) - 1 - look_back)\n",
    "                if len(idx_list) > max_sample:\n",
    "                    idx_list = np.random.choice(idx_list, max_sample, replace=False)\n",
    "                for idx in idx_list:\n",
    "                    X.append(df[[\"bpm\", \"uterus\"]].iloc[idx:idx+look_back].to_numpy())\n",
    "                    y.append(diagnosis == \"regular\")\n",
    "                    #y.append((lambda x: [x, 1 - x])(int(diagnosis == \"regular\")))\n",
    "                #X.extend(np.random.choice(_X, min(max_sample, len(_X))))\n",
    "                #y.extend(np.random.choice(_y, min(max_sample, len(_y))))\n",
    "            except:\n",
    "                pass\n",
    "    print()"
   ]
  },
  {
   "cell_type": "code",
   "execution_count": 4,
   "metadata": {},
   "outputs": [
    {
     "data": {
      "text/plain": [
       "(232934,)"
      ]
     },
     "execution_count": 4,
     "metadata": {},
     "output_type": "execute_result"
    }
   ],
   "source": [
    "y = np.array(y)\n",
    "y.shape"
   ]
  },
  {
   "cell_type": "code",
   "execution_count": 5,
   "metadata": {},
   "outputs": [
    {
     "data": {
      "text/plain": [
       "(232934, 2, 500)"
      ]
     },
     "execution_count": 5,
     "metadata": {},
     "output_type": "execute_result"
    }
   ],
   "source": [
    "X = np.array(X).transpose((0, 2, 1))\n",
    "X.shape"
   ]
  },
  {
   "cell_type": "code",
   "execution_count": 7,
   "metadata": {},
   "outputs": [],
   "source": [
    "X_train, X_test, y_train, y_test = sklearn.model_selection.train_test_split(X, y, test_size=0.2)"
   ]
  },
  {
   "cell_type": "code",
   "execution_count": 8,
   "metadata": {},
   "outputs": [
    {
     "data": {
      "text/plain": [
       "((186347, 2, 500), (46587, 2, 500), (186347,), (46587,))"
      ]
     },
     "execution_count": 8,
     "metadata": {},
     "output_type": "execute_result"
    }
   ],
   "source": [
    "X_train.shape, X_test.shape, y_train.shape, y_test.shape"
   ]
  },
  {
   "cell_type": "code",
   "execution_count": 15,
   "metadata": {},
   "outputs": [],
   "source": [
    "from tsai.all import *"
   ]
  },
  {
   "cell_type": "code",
   "execution_count": 16,
   "metadata": {},
   "outputs": [],
   "source": [
    "X, y, splits = combine_split_data([X_train, X_test], [y_train, y_test])"
   ]
  },
  {
   "cell_type": "code",
   "execution_count": 17,
   "metadata": {},
   "outputs": [],
   "source": [
    "tfms  = [None, [Categorize()]]\n",
    "dsets = TSDatasets(X, y, tfms=tfms, splits=splits, inplace=True)"
   ]
  },
  {
   "cell_type": "code",
   "execution_count": 18,
   "metadata": {},
   "outputs": [],
   "source": [
    "dls = TSDataLoaders.from_dsets(dsets.train, dsets.valid, bs=[64, 128], batch_tfms=[TSStandardize()])"
   ]
  },
  {
   "cell_type": "code",
   "execution_count": 23,
   "metadata": {},
   "outputs": [],
   "source": [
    "model = ResCNN(dls.vars, dls.c)\n",
    "learn = Learner(dls, model, metrics=[accuracy])"
   ]
  },
  {
   "cell_type": "code",
   "execution_count": 24,
   "metadata": {},
   "outputs": [
    {
     "data": {
      "text/html": [
       "\n",
       "<style>\n",
       "    /* Turns off some styling */\n",
       "    progress {\n",
       "        /* gets rid of default border in Firefox and Opera. */\n",
       "        border: none;\n",
       "        /* Needs to be in here for Safari polyfill so background images work as expected. */\n",
       "        background-size: auto;\n",
       "    }\n",
       "    progress:not([value]), progress:not([value])::-webkit-progress-bar {\n",
       "        background: repeating-linear-gradient(45deg, #7e7e7e, #7e7e7e 10px, #5c5c5c 10px, #5c5c5c 20px);\n",
       "    }\n",
       "    .progress-bar-interrupted, .progress-bar-interrupted::-webkit-progress-bar {\n",
       "        background: #F44336;\n",
       "    }\n",
       "</style>\n"
      ],
      "text/plain": [
       "<IPython.core.display.HTML object>"
      ]
     },
     "metadata": {},
     "output_type": "display_data"
    },
    {
     "data": {
      "text/html": [],
      "text/plain": [
       "<IPython.core.display.HTML object>"
      ]
     },
     "metadata": {},
     "output_type": "display_data"
    },
    {
     "data": {
      "text/plain": [
       "SuggestedLRs(valley=0.0030199517495930195)"
      ]
     },
     "execution_count": 24,
     "metadata": {},
     "output_type": "execute_result"
    },
    {
     "data": {
      "image/png": "[encoded data removed]",
      "text/plain": [
       "<Figure size 640x480 with 1 Axes>"
      ]
     },
     "metadata": {},
     "output_type": "display_data"
    }
   ],
   "source": [
    "learn.lr_find()"
   ]
  },
  {
   "cell_type": "code",
   "execution_count": 25,
   "metadata": {},
   "outputs": [
    {
     "data": {
      "text/html": [
       "\n",
       "<style>\n",
       "    /* Turns off some styling */\n",
       "    progress {\n",
       "        /* gets rid of default border in Firefox and Opera. */\n",
       "        border: none;\n",
       "        /* Needs to be in here for Safari polyfill so background images work as expected. */\n",
       "        background-size: auto;\n",
       "    }\n",
       "    progress:not([value]), progress:not([value])::-webkit-progress-bar {\n",
       "        background: repeating-linear-gradient(45deg, #7e7e7e, #7e7e7e 10px, #5c5c5c 10px, #5c5c5c 20px);\n",
       "    }\n",
       "    .progress-bar-interrupted, .progress-bar-interrupted::-webkit-progress-bar {\n",
       "        background: #F44336;\n",
       "    }\n",
       "</style>\n"
      ],
      "text/plain": [
       "<IPython.core.display.HTML object>"
      ]
     },
     "metadata": {},
     "output_type": "display_data"
    },
    {
     "data": {
      "text/html": [
       "<table border=\"1\" class=\"dataframe\">\n",
       "  <thead>\n",
       "    <tr style=\"text-align: left;\">\n",
       "      <th>epoch</th>\n",
       "      <th>train_loss</th>\n",
       "      <th>valid_loss</th>\n",
       "      <th>accuracy</th>\n",
       "      <th>time</th>\n",
       "    </tr>\n",
       "  </thead>\n",
       "  <tbody>\n",
       "    <tr>\n",
       "      <td>0</td>\n",
       "      <td>0.503541</td>\n",
       "      <td>0.510952</td>\n",
       "      <td>0.759289</td>\n",
       "      <td>00:34</td>\n",
       "    </tr>\n",
       "    <tr>\n",
       "      <td>1</td>\n",
       "      <td>0.482365</td>\n",
       "      <td>0.457501</td>\n",
       "      <td>0.792710</td>\n",
       "      <td>00:33</td>\n",
       "    </tr>\n",
       "    <tr>\n",
       "      <td>2</td>\n",
       "      <td>0.448989</td>\n",
       "      <td>0.488131</td>\n",
       "      <td>0.777685</td>\n",
       "      <td>00:33</td>\n",
       "    </tr>\n",
       "    <tr>\n",
       "      <td>3</td>\n",
       "      <td>0.409636</td>\n",
       "      <td>0.401354</td>\n",
       "      <td>0.822053</td>\n",
       "      <td>00:33</td>\n",
       "    </tr>\n",
       "    <tr>\n",
       "      <td>4</td>\n",
       "      <td>0.382103</td>\n",
       "      <td>0.999083</td>\n",
       "      <td>0.789104</td>\n",
       "      <td>00:34</td>\n",
       "    </tr>\n",
       "    <tr>\n",
       "      <td>5</td>\n",
       "      <td>0.293697</td>\n",
       "      <td>1.542578</td>\n",
       "      <td>0.756198</td>\n",
       "      <td>00:33</td>\n",
       "    </tr>\n",
       "    <tr>\n",
       "      <td>6</td>\n",
       "      <td>0.252164</td>\n",
       "      <td>0.343153</td>\n",
       "      <td>0.863288</td>\n",
       "      <td>00:34</td>\n",
       "    </tr>\n",
       "    <tr>\n",
       "      <td>7</td>\n",
       "      <td>0.202671</td>\n",
       "      <td>0.410357</td>\n",
       "      <td>0.850602</td>\n",
       "      <td>00:33</td>\n",
       "    </tr>\n",
       "    <tr>\n",
       "      <td>8</td>\n",
       "      <td>0.158382</td>\n",
       "      <td>0.892878</td>\n",
       "      <td>0.681950</td>\n",
       "      <td>00:34</td>\n",
       "    </tr>\n",
       "    <tr>\n",
       "      <td>9</td>\n",
       "      <td>0.146371</td>\n",
       "      <td>0.444580</td>\n",
       "      <td>0.875931</td>\n",
       "      <td>00:34</td>\n",
       "    </tr>\n",
       "    <tr>\n",
       "      <td>10</td>\n",
       "      <td>0.115842</td>\n",
       "      <td>0.411009</td>\n",
       "      <td>0.846610</td>\n",
       "      <td>00:33</td>\n",
       "    </tr>\n",
       "    <tr>\n",
       "      <td>11</td>\n",
       "      <td>0.090882</td>\n",
       "      <td>2.447439</td>\n",
       "      <td>0.783867</td>\n",
       "      <td>00:33</td>\n",
       "    </tr>\n",
       "    <tr>\n",
       "      <td>12</td>\n",
       "      <td>0.077292</td>\n",
       "      <td>0.318518</td>\n",
       "      <td>0.907034</td>\n",
       "      <td>00:33</td>\n",
       "    </tr>\n",
       "    <tr>\n",
       "      <td>13</td>\n",
       "      <td>0.073096</td>\n",
       "      <td>0.485262</td>\n",
       "      <td>0.877820</td>\n",
       "      <td>00:34</td>\n",
       "    </tr>\n",
       "    <tr>\n",
       "      <td>14</td>\n",
       "      <td>0.051195</td>\n",
       "      <td>0.056248</td>\n",
       "      <td>0.978213</td>\n",
       "      <td>00:34</td>\n",
       "    </tr>\n",
       "    <tr>\n",
       "      <td>15</td>\n",
       "      <td>0.052439</td>\n",
       "      <td>0.075804</td>\n",
       "      <td>0.971172</td>\n",
       "      <td>00:34</td>\n",
       "    </tr>\n",
       "    <tr>\n",
       "      <td>16</td>\n",
       "      <td>0.037820</td>\n",
       "      <td>0.061746</td>\n",
       "      <td>0.976689</td>\n",
       "      <td>00:33</td>\n",
       "    </tr>\n",
       "    <tr>\n",
       "      <td>17</td>\n",
       "      <td>0.024797</td>\n",
       "      <td>0.089390</td>\n",
       "      <td>0.970614</td>\n",
       "      <td>00:33</td>\n",
       "    </tr>\n",
       "    <tr>\n",
       "      <td>18</td>\n",
       "      <td>0.021432</td>\n",
       "      <td>0.268454</td>\n",
       "      <td>0.933930</td>\n",
       "      <td>00:34</td>\n",
       "    </tr>\n",
       "    <tr>\n",
       "      <td>19</td>\n",
       "      <td>0.014058</td>\n",
       "      <td>0.009476</td>\n",
       "      <td>0.997768</td>\n",
       "      <td>00:33</td>\n",
       "    </tr>\n",
       "    <tr>\n",
       "      <td>20</td>\n",
       "      <td>0.013855</td>\n",
       "      <td>0.011866</td>\n",
       "      <td>0.996287</td>\n",
       "      <td>00:33</td>\n",
       "    </tr>\n",
       "    <tr>\n",
       "      <td>21</td>\n",
       "      <td>0.007198</td>\n",
       "      <td>0.003181</td>\n",
       "      <td>0.999528</td>\n",
       "      <td>00:33</td>\n",
       "    </tr>\n",
       "    <tr>\n",
       "      <td>22</td>\n",
       "      <td>0.007227</td>\n",
       "      <td>0.002773</td>\n",
       "      <td>0.999528</td>\n",
       "      <td>00:34</td>\n",
       "    </tr>\n",
       "    <tr>\n",
       "      <td>23</td>\n",
       "      <td>0.006224</td>\n",
       "      <td>0.002489</td>\n",
       "      <td>0.999678</td>\n",
       "      <td>00:33</td>\n",
       "    </tr>\n",
       "    <tr>\n",
       "      <td>24</td>\n",
       "      <td>0.005037</td>\n",
       "      <td>0.002348</td>\n",
       "      <td>0.999678</td>\n",
       "      <td>00:33</td>\n",
       "    </tr>\n",
       "  </tbody>\n",
       "</table>"
      ],
      "text/plain": [
       "<IPython.core.display.HTML object>"
      ]
     },
     "metadata": {},
     "output_type": "display_data"
    }
   ],
   "source": [
    "learn.fit_one_cycle(25, lr_max=1.1e-3)"
   ]
  },
  {
   "cell_type": "code",
   "execution_count": 28,
   "metadata": {},
   "outputs": [],
   "source": [
    "from sklearn.metrics import accuracy_score, precision_score, recall_score, f1_score, roc_auc_score"
   ]
  },
  {
   "cell_type": "code",
   "execution_count": 33,
   "metadata": {},
   "outputs": [
    {
     "data": {
      "text/html": [
       "\n",
       "<style>\n",
       "    /* Turns off some styling */\n",
       "    progress {\n",
       "        /* gets rid of default border in Firefox and Opera. */\n",
       "        border: none;\n",
       "        /* Needs to be in here for Safari polyfill so background images work as expected. */\n",
       "        background-size: auto;\n",
       "    }\n",
       "    progress:not([value]), progress:not([value])::-webkit-progress-bar {\n",
       "        background: repeating-linear-gradient(45deg, #7e7e7e, #7e7e7e 10px, #5c5c5c 10px, #5c5c5c 20px);\n",
       "    }\n",
       "    .progress-bar-interrupted, .progress-bar-interrupted::-webkit-progress-bar {\n",
       "        background: #F44336;\n",
       "    }\n",
       "</style>\n"
      ],
      "text/plain": [
       "<IPython.core.display.HTML object>"
      ]
     },
     "metadata": {},
     "output_type": "display_data"
    },
    {
     "data": {
      "text/html": [],
      "text/plain": [
       "<IPython.core.display.HTML object>"
      ]
     },
     "metadata": {},
     "output_type": "display_data"
    },
    {
     "data": {
      "text/plain": [
       "(torch.Size([46587, 2]), (46587,))"
      ]
     },
     "execution_count": 33,
     "metadata": {},
     "output_type": "execute_result"
    }
   ],
   "source": [
    "preds = learn.get_X_preds(X_test)[0]\n",
    "preds.shape, y_test.shape"
   ]
  },
  {
   "cell_type": "code",
   "execution_count": 40,
   "metadata": {},
   "outputs": [
    {
     "data": {
      "text/plain": [
       "tensor([1, 0, 1,  ..., 1, 1, 0])"
      ]
     },
     "execution_count": 40,
     "metadata": {},
     "output_type": "execute_result"
    }
   ],
   "source": [
    "preds = preds.argmax(axis=1)\n",
    "preds"
   ]
  },
  {
   "cell_type": "code",
   "execution_count": 41,
   "metadata": {},
   "outputs": [
    {
     "data": {
      "text/plain": [
       "array([1, 0, 1, ..., 1, 1, 0], shape=(46587,))"
      ]
     },
     "execution_count": 41,
     "metadata": {},
     "output_type": "execute_result"
    }
   ],
   "source": [
    "y_test = y_test.astype('int')\n",
    "y_test"
   ]
  },
  {
   "cell_type": "code",
   "execution_count": 42,
   "metadata": {},
   "outputs": [
    {
     "data": {
      "text/plain": [
       "(0.9996780217657286,\n",
       " 0.9995586659100939,\n",
       " 0.9999684632123372,\n",
       " 0.9997635225678296,\n",
       " 0.9995137382602888)"
      ]
     },
     "execution_count": 42,
     "metadata": {},
     "output_type": "execute_result"
    }
   ],
   "source": [
    "accuracy_score(y_test, preds), precision_score(y_test, preds), recall_score(y_test, preds), f1_score(y_test, preds), roc_auc_score(y_test, preds)"
   ]
  },
  {
   "cell_type": "code",
   "execution_count": 43,
   "metadata": {},
   "outputs": [
    {
     "data": {
      "text/html": [
       "\n",
       "<style>\n",
       "    /* Turns off some styling */\n",
       "    progress {\n",
       "        /* gets rid of default border in Firefox and Opera. */\n",
       "        border: none;\n",
       "        /* Needs to be in here for Safari polyfill so background images work as expected. */\n",
       "        background-size: auto;\n",
       "    }\n",
       "    progress:not([value]), progress:not([value])::-webkit-progress-bar {\n",
       "        background: repeating-linear-gradient(45deg, #7e7e7e, #7e7e7e 10px, #5c5c5c 10px, #5c5c5c 20px);\n",
       "    }\n",
       "    .progress-bar-interrupted, .progress-bar-interrupted::-webkit-progress-bar {\n",
       "        background: #F44336;\n",
       "    }\n",
       "</style>\n"
      ],
      "text/plain": [
       "<IPython.core.display.HTML object>"
      ]
     },
     "metadata": {},
     "output_type": "display_data"
    },
    {
     "data": {
      "text/html": [],
      "text/plain": [
       "<IPython.core.display.HTML object>"
      ]
     },
     "metadata": {},
     "output_type": "display_data"
    },
    {
     "data": {
      "text/plain": [
       "(0.9999624356710868,\n",
       " 0.9999684888017079,\n",
       " 0.9999763664151002,\n",
       " 0.9999724275928895,\n",
       " 0.9999545182746274)"
      ]
     },
     "execution_count": 43,
     "metadata": {},
     "output_type": "execute_result"
    }
   ],
   "source": [
    "preds = learn.get_X_preds(X_train)[0]\n",
    "preds = preds.argmax(axis=1)\n",
    "y_train = y_train.astype('int')\n",
    "accuracy_score(y_train, preds), precision_score(y_train, preds), recall_score(y_train, preds), f1_score(y_train, preds), roc_auc_score(y_train, preds)"
   ]
  },
  {
   "cell_type": "code",
   "execution_count": 44,
   "metadata": {},
   "outputs": [],
   "source": [
    "learn.export(\"res_cnn.pt\")"
   ]
  }
 ],
 "metadata": {
  "kernelspec": {
   "display_name": ".venv",
   "language": "python",
   "name": "python3"
  },
  "language_info": {
   "codemirror_mode": {
    "name": "ipython",
    "version": 3
   },
   "file_extension": ".py",
   "mimetype": "text/x-python",
   "name": "python",
   "nbconvert_exporter": "python",
   "pygments_lexer": "ipython3",
   "version": "3.12.3"
  }
 },
 "nbformat": 4,
 "nbformat_minor": 2
}
